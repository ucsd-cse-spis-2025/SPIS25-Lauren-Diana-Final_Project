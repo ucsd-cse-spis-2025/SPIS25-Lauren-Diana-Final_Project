{
  "nbformat": 4,
  "nbformat_minor": 0,
  "metadata": {
    "colab": {
      "provenance": [],
      "authorship_tag": "ABX9TyMw4sm7OSKN3pgtk2uzHVAc",
      "include_colab_link": true
    },
    "kernelspec": {
      "name": "python3",
      "display_name": "Python 3"
    },
    "language_info": {
      "name": "python"
    }
  },
  "cells": [
    {
      "cell_type": "markdown",
      "metadata": {
        "id": "view-in-github",
        "colab_type": "text"
      },
      "source": [
        "<a href=\"https://colab.research.google.com/github/ucsd-cse-spis-2025/SPIS25-Lauren-Diana-Final_Project/blob/main/SPIS_Stock_MLP.ipynb\" target=\"_parent\"><img src=\"https://colab.research.google.com/assets/colab-badge.svg\" alt=\"Open In Colab\"/></a>"
      ]
    },
    {
      "cell_type": "code",
      "source": [
        "import kagglehub\n",
        "\n",
        "path = kagglehub.dataset_download(\"iamtanmayshukla/tesla-stocks-dataset\")\n",
        "\n",
        "print(\"Path to dataset files:\", path)"
      ],
      "metadata": {
        "colab": {
          "base_uri": "https://localhost:8080/"
        },
        "id": "q9h1oj3jRIrY",
        "outputId": "48f98892-d5f8-40ce-e3c9-8a39b7136061"
      },
      "execution_count": 190,
      "outputs": [
        {
          "output_type": "stream",
          "name": "stdout",
          "text": [
            "Path to dataset files: /kaggle/input/tesla-stocks-dataset\n"
          ]
        }
      ]
    },
    {
      "cell_type": "code",
      "execution_count": 191,
      "metadata": {
        "id": "N5dWCrpjQZeH"
      },
      "outputs": [],
      "source": [
        "import numpy as np\n",
        "import pandas as pd\n",
        "import torch\n",
        "import torch.nn as nn\n",
        "import torch.optim as optim\n",
        "from sklearn.model_selection import train_test_split\n",
        "from sklearn.preprocessing import StandardScaler\n",
        "from sklearn.metrics import accuracy_score, classification_report"
      ]
    },
    {
      "cell_type": "code",
      "source": [
        "df = pd.read_csv(\"/root/.cache/kagglehub/datasets/iamtanmayshukla/tesla-stocks-dataset/versions/5/HistoricalData_1726367135218.csv\")\n",
        "#df = df[df[\"Name\"] == \"AAPL\"]"
      ],
      "metadata": {
        "id": "iTtCMSsoRcv2"
      },
      "execution_count": 192,
      "outputs": []
    },
    {
      "cell_type": "code",
      "source": [
        "names = ['Close/Last', 'Open', 'High', 'Low']\n",
        "\n",
        "for col in names:\n",
        "  df[col] = df[col].replace('[/$]', '', regex=True).astype(float)"
      ],
      "metadata": {
        "id": "VaPvnjpxb0dS"
      },
      "execution_count": 193,
      "outputs": []
    },
    {
      "cell_type": "code",
      "source": [
        "splitted = df['Date'].str.split('/', expand=True)\n",
        "\n",
        "df['day'] = splitted[1].astype('int')\n",
        "df['month'] = splitted[0].astype('int')\n",
        "df['year'] = splitted[2].astype('int')"
      ],
      "metadata": {
        "id": "hI3m2ByNRhze"
      },
      "execution_count": 194,
      "outputs": []
    },
    {
      "cell_type": "code",
      "source": [
        "# Feature engineering\n",
        "df['open-close'] = df['Open'] - df['Close/Last']\n",
        "df['low-high'] = df['Low'] - df['High']\n",
        "df['daily_return'] = df['Close/Last'].pct_change()\n",
        "df['is_quarter_end'] = np.where(df['month'] % 3 == 0, 1, 0)"
      ],
      "metadata": {
        "id": "R7-ZEPDXQksP"
      },
      "execution_count": 195,
      "outputs": []
    },
    {
      "cell_type": "code",
      "source": [
        "#!pip install ta\n",
        "import ta  # technical analysis library\n",
        "\n",
        "df['rsi'] = ta.momentum.RSIIndicator(df['Close/Last'], window=14).rsi()\n",
        "df['macd'] = ta.trend.MACD(df['Close/Last']).macd_diff()\n",
        "df['bollinger_h'] = ta.volatility.BollingerBands(df['Close/Last']).bollinger_hband()\n",
        "df['bollinger_l'] = ta.volatility.BollingerBands(df['Close/Last']).bollinger_lband()\n",
        "df['ema_12'] = ta.trend.EMAIndicator(df['Close/Last'], window=12).ema_indicator()\n",
        "df['ema_26'] = ta.trend.EMAIndicator(df['Close/Last'], window=26).ema_indicator()"
      ],
      "metadata": {
        "id": "7ofOSr5OS_lW"
      },
      "execution_count": 196,
      "outputs": []
    },
    {
      "cell_type": "code",
      "source": [
        "# Drop NA from pct_change\n",
        "df = df.dropna()"
      ],
      "metadata": {
        "id": "d-J134bKQsiv"
      },
      "execution_count": 197,
      "outputs": []
    },
    {
      "cell_type": "code",
      "source": [
        "df.head()"
      ],
      "metadata": {
        "colab": {
          "base_uri": "https://localhost:8080/",
          "height": 243
        },
        "id": "GOCaO0qRYBBL",
        "outputId": "4c9f6a4c-2226-4b3a-daeb-4cd64ab67a00"
      },
      "execution_count": 198,
      "outputs": [
        {
          "output_type": "execute_result",
          "data": {
            "text/plain": [
              "          Date  Close/Last     Volume    Open      High      Low  day  month  \\\n",
              "33  07/29/2024      232.10  129201800  224.90  234.2700  224.700   29      7   \n",
              "34  07/26/2024      219.80   94604150  221.19  222.2799  215.330   26      7   \n",
              "35  07/25/2024      220.25  100636500  216.80  226.0000  216.231   25      7   \n",
              "36  07/24/2024      215.99  167942900  225.42  225.9900  214.710   24      7   \n",
              "37  07/23/2024      246.38  111928200  253.60  255.7594  245.630   23      7   \n",
              "\n",
              "    year  open-close  low-high  daily_return  is_quarter_end        rsi  \\\n",
              "33  2024       -7.20   -9.5700      0.042584               0  59.968837   \n",
              "34  2024        1.39   -6.9499     -0.052994               0  52.637426   \n",
              "35  2024       -3.45   -9.7690      0.002047               0  52.864466   \n",
              "36  2024        9.43  -11.2800     -0.019342               0  50.401316   \n",
              "37  2024        7.22  -10.1294      0.140701               0  63.475554   \n",
              "\n",
              "        macd  bollinger_h  bollinger_l      ema_12      ema_26  \n",
              "33  3.994924   235.264484   188.382516  215.220166  214.379828  \n",
              "34  3.438416   235.201855   188.393145  215.924756  214.781322  \n",
              "35  2.959001   235.959785   188.594215  216.590178  215.186410  \n",
              "36  2.245712   235.127918   188.698082  216.497843  215.245935  \n",
              "37  3.629392   240.622514   185.731486  221.095098  217.552162  "
            ],
            "text/html": [
              "\n",
              "  <div id=\"df-841e9d0e-aeeb-4b5a-aa58-558a99c42ffa\" class=\"colab-df-container\">\n",
              "    <div>\n",
              "<style scoped>\n",
              "    .dataframe tbody tr th:only-of-type {\n",
              "        vertical-align: middle;\n",
              "    }\n",
              "\n",
              "    .dataframe tbody tr th {\n",
              "        vertical-align: top;\n",
              "    }\n",
              "\n",
              "    .dataframe thead th {\n",
              "        text-align: right;\n",
              "    }\n",
              "</style>\n",
              "<table border=\"1\" class=\"dataframe\">\n",
              "  <thead>\n",
              "    <tr style=\"text-align: right;\">\n",
              "      <th></th>\n",
              "      <th>Date</th>\n",
              "      <th>Close/Last</th>\n",
              "      <th>Volume</th>\n",
              "      <th>Open</th>\n",
              "      <th>High</th>\n",
              "      <th>Low</th>\n",
              "      <th>day</th>\n",
              "      <th>month</th>\n",
              "      <th>year</th>\n",
              "      <th>open-close</th>\n",
              "      <th>low-high</th>\n",
              "      <th>daily_return</th>\n",
              "      <th>is_quarter_end</th>\n",
              "      <th>rsi</th>\n",
              "      <th>macd</th>\n",
              "      <th>bollinger_h</th>\n",
              "      <th>bollinger_l</th>\n",
              "      <th>ema_12</th>\n",
              "      <th>ema_26</th>\n",
              "    </tr>\n",
              "  </thead>\n",
              "  <tbody>\n",
              "    <tr>\n",
              "      <th>33</th>\n",
              "      <td>07/29/2024</td>\n",
              "      <td>232.10</td>\n",
              "      <td>129201800</td>\n",
              "      <td>224.90</td>\n",
              "      <td>234.2700</td>\n",
              "      <td>224.700</td>\n",
              "      <td>29</td>\n",
              "      <td>7</td>\n",
              "      <td>2024</td>\n",
              "      <td>-7.20</td>\n",
              "      <td>-9.5700</td>\n",
              "      <td>0.042584</td>\n",
              "      <td>0</td>\n",
              "      <td>59.968837</td>\n",
              "      <td>3.994924</td>\n",
              "      <td>235.264484</td>\n",
              "      <td>188.382516</td>\n",
              "      <td>215.220166</td>\n",
              "      <td>214.379828</td>\n",
              "    </tr>\n",
              "    <tr>\n",
              "      <th>34</th>\n",
              "      <td>07/26/2024</td>\n",
              "      <td>219.80</td>\n",
              "      <td>94604150</td>\n",
              "      <td>221.19</td>\n",
              "      <td>222.2799</td>\n",
              "      <td>215.330</td>\n",
              "      <td>26</td>\n",
              "      <td>7</td>\n",
              "      <td>2024</td>\n",
              "      <td>1.39</td>\n",
              "      <td>-6.9499</td>\n",
              "      <td>-0.052994</td>\n",
              "      <td>0</td>\n",
              "      <td>52.637426</td>\n",
              "      <td>3.438416</td>\n",
              "      <td>235.201855</td>\n",
              "      <td>188.393145</td>\n",
              "      <td>215.924756</td>\n",
              "      <td>214.781322</td>\n",
              "    </tr>\n",
              "    <tr>\n",
              "      <th>35</th>\n",
              "      <td>07/25/2024</td>\n",
              "      <td>220.25</td>\n",
              "      <td>100636500</td>\n",
              "      <td>216.80</td>\n",
              "      <td>226.0000</td>\n",
              "      <td>216.231</td>\n",
              "      <td>25</td>\n",
              "      <td>7</td>\n",
              "      <td>2024</td>\n",
              "      <td>-3.45</td>\n",
              "      <td>-9.7690</td>\n",
              "      <td>0.002047</td>\n",
              "      <td>0</td>\n",
              "      <td>52.864466</td>\n",
              "      <td>2.959001</td>\n",
              "      <td>235.959785</td>\n",
              "      <td>188.594215</td>\n",
              "      <td>216.590178</td>\n",
              "      <td>215.186410</td>\n",
              "    </tr>\n",
              "    <tr>\n",
              "      <th>36</th>\n",
              "      <td>07/24/2024</td>\n",
              "      <td>215.99</td>\n",
              "      <td>167942900</td>\n",
              "      <td>225.42</td>\n",
              "      <td>225.9900</td>\n",
              "      <td>214.710</td>\n",
              "      <td>24</td>\n",
              "      <td>7</td>\n",
              "      <td>2024</td>\n",
              "      <td>9.43</td>\n",
              "      <td>-11.2800</td>\n",
              "      <td>-0.019342</td>\n",
              "      <td>0</td>\n",
              "      <td>50.401316</td>\n",
              "      <td>2.245712</td>\n",
              "      <td>235.127918</td>\n",
              "      <td>188.698082</td>\n",
              "      <td>216.497843</td>\n",
              "      <td>215.245935</td>\n",
              "    </tr>\n",
              "    <tr>\n",
              "      <th>37</th>\n",
              "      <td>07/23/2024</td>\n",
              "      <td>246.38</td>\n",
              "      <td>111928200</td>\n",
              "      <td>253.60</td>\n",
              "      <td>255.7594</td>\n",
              "      <td>245.630</td>\n",
              "      <td>23</td>\n",
              "      <td>7</td>\n",
              "      <td>2024</td>\n",
              "      <td>7.22</td>\n",
              "      <td>-10.1294</td>\n",
              "      <td>0.140701</td>\n",
              "      <td>0</td>\n",
              "      <td>63.475554</td>\n",
              "      <td>3.629392</td>\n",
              "      <td>240.622514</td>\n",
              "      <td>185.731486</td>\n",
              "      <td>221.095098</td>\n",
              "      <td>217.552162</td>\n",
              "    </tr>\n",
              "  </tbody>\n",
              "</table>\n",
              "</div>\n",
              "    <div class=\"colab-df-buttons\">\n",
              "\n",
              "  <div class=\"colab-df-container\">\n",
              "    <button class=\"colab-df-convert\" onclick=\"convertToInteractive('df-841e9d0e-aeeb-4b5a-aa58-558a99c42ffa')\"\n",
              "            title=\"Convert this dataframe to an interactive table.\"\n",
              "            style=\"display:none;\">\n",
              "\n",
              "  <svg xmlns=\"http://www.w3.org/2000/svg\" height=\"24px\" viewBox=\"0 -960 960 960\">\n",
              "    <path d=\"M120-120v-720h720v720H120Zm60-500h600v-160H180v160Zm220 220h160v-160H400v160Zm0 220h160v-160H400v160ZM180-400h160v-160H180v160Zm440 0h160v-160H620v160ZM180-180h160v-160H180v160Zm440 0h160v-160H620v160Z\"/>\n",
              "  </svg>\n",
              "    </button>\n",
              "\n",
              "  <style>\n",
              "    .colab-df-container {\n",
              "      display:flex;\n",
              "      gap: 12px;\n",
              "    }\n",
              "\n",
              "    .colab-df-convert {\n",
              "      background-color: #E8F0FE;\n",
              "      border: none;\n",
              "      border-radius: 50%;\n",
              "      cursor: pointer;\n",
              "      display: none;\n",
              "      fill: #1967D2;\n",
              "      height: 32px;\n",
              "      padding: 0 0 0 0;\n",
              "      width: 32px;\n",
              "    }\n",
              "\n",
              "    .colab-df-convert:hover {\n",
              "      background-color: #E2EBFA;\n",
              "      box-shadow: 0px 1px 2px rgba(60, 64, 67, 0.3), 0px 1px 3px 1px rgba(60, 64, 67, 0.15);\n",
              "      fill: #174EA6;\n",
              "    }\n",
              "\n",
              "    .colab-df-buttons div {\n",
              "      margin-bottom: 4px;\n",
              "    }\n",
              "\n",
              "    [theme=dark] .colab-df-convert {\n",
              "      background-color: #3B4455;\n",
              "      fill: #D2E3FC;\n",
              "    }\n",
              "\n",
              "    [theme=dark] .colab-df-convert:hover {\n",
              "      background-color: #434B5C;\n",
              "      box-shadow: 0px 1px 3px 1px rgba(0, 0, 0, 0.15);\n",
              "      filter: drop-shadow(0px 1px 2px rgba(0, 0, 0, 0.3));\n",
              "      fill: #FFFFFF;\n",
              "    }\n",
              "  </style>\n",
              "\n",
              "    <script>\n",
              "      const buttonEl =\n",
              "        document.querySelector('#df-841e9d0e-aeeb-4b5a-aa58-558a99c42ffa button.colab-df-convert');\n",
              "      buttonEl.style.display =\n",
              "        google.colab.kernel.accessAllowed ? 'block' : 'none';\n",
              "\n",
              "      async function convertToInteractive(key) {\n",
              "        const element = document.querySelector('#df-841e9d0e-aeeb-4b5a-aa58-558a99c42ffa');\n",
              "        const dataTable =\n",
              "          await google.colab.kernel.invokeFunction('convertToInteractive',\n",
              "                                                    [key], {});\n",
              "        if (!dataTable) return;\n",
              "\n",
              "        const docLinkHtml = 'Like what you see? Visit the ' +\n",
              "          '<a target=\"_blank\" href=https://colab.research.google.com/notebooks/data_table.ipynb>data table notebook</a>'\n",
              "          + ' to learn more about interactive tables.';\n",
              "        element.innerHTML = '';\n",
              "        dataTable['output_type'] = 'display_data';\n",
              "        await google.colab.output.renderOutput(dataTable, element);\n",
              "        const docLink = document.createElement('div');\n",
              "        docLink.innerHTML = docLinkHtml;\n",
              "        element.appendChild(docLink);\n",
              "      }\n",
              "    </script>\n",
              "  </div>\n",
              "\n",
              "\n",
              "    <div id=\"df-c7bd5fea-cee3-4d9b-b7e5-6a1cfbb55349\">\n",
              "      <button class=\"colab-df-quickchart\" onclick=\"quickchart('df-c7bd5fea-cee3-4d9b-b7e5-6a1cfbb55349')\"\n",
              "                title=\"Suggest charts\"\n",
              "                style=\"display:none;\">\n",
              "\n",
              "<svg xmlns=\"http://www.w3.org/2000/svg\" height=\"24px\"viewBox=\"0 0 24 24\"\n",
              "     width=\"24px\">\n",
              "    <g>\n",
              "        <path d=\"M19 3H5c-1.1 0-2 .9-2 2v14c0 1.1.9 2 2 2h14c1.1 0 2-.9 2-2V5c0-1.1-.9-2-2-2zM9 17H7v-7h2v7zm4 0h-2V7h2v10zm4 0h-2v-4h2v4z\"/>\n",
              "    </g>\n",
              "</svg>\n",
              "      </button>\n",
              "\n",
              "<style>\n",
              "  .colab-df-quickchart {\n",
              "      --bg-color: #E8F0FE;\n",
              "      --fill-color: #1967D2;\n",
              "      --hover-bg-color: #E2EBFA;\n",
              "      --hover-fill-color: #174EA6;\n",
              "      --disabled-fill-color: #AAA;\n",
              "      --disabled-bg-color: #DDD;\n",
              "  }\n",
              "\n",
              "  [theme=dark] .colab-df-quickchart {\n",
              "      --bg-color: #3B4455;\n",
              "      --fill-color: #D2E3FC;\n",
              "      --hover-bg-color: #434B5C;\n",
              "      --hover-fill-color: #FFFFFF;\n",
              "      --disabled-bg-color: #3B4455;\n",
              "      --disabled-fill-color: #666;\n",
              "  }\n",
              "\n",
              "  .colab-df-quickchart {\n",
              "    background-color: var(--bg-color);\n",
              "    border: none;\n",
              "    border-radius: 50%;\n",
              "    cursor: pointer;\n",
              "    display: none;\n",
              "    fill: var(--fill-color);\n",
              "    height: 32px;\n",
              "    padding: 0;\n",
              "    width: 32px;\n",
              "  }\n",
              "\n",
              "  .colab-df-quickchart:hover {\n",
              "    background-color: var(--hover-bg-color);\n",
              "    box-shadow: 0 1px 2px rgba(60, 64, 67, 0.3), 0 1px 3px 1px rgba(60, 64, 67, 0.15);\n",
              "    fill: var(--button-hover-fill-color);\n",
              "  }\n",
              "\n",
              "  .colab-df-quickchart-complete:disabled,\n",
              "  .colab-df-quickchart-complete:disabled:hover {\n",
              "    background-color: var(--disabled-bg-color);\n",
              "    fill: var(--disabled-fill-color);\n",
              "    box-shadow: none;\n",
              "  }\n",
              "\n",
              "  .colab-df-spinner {\n",
              "    border: 2px solid var(--fill-color);\n",
              "    border-color: transparent;\n",
              "    border-bottom-color: var(--fill-color);\n",
              "    animation:\n",
              "      spin 1s steps(1) infinite;\n",
              "  }\n",
              "\n",
              "  @keyframes spin {\n",
              "    0% {\n",
              "      border-color: transparent;\n",
              "      border-bottom-color: var(--fill-color);\n",
              "      border-left-color: var(--fill-color);\n",
              "    }\n",
              "    20% {\n",
              "      border-color: transparent;\n",
              "      border-left-color: var(--fill-color);\n",
              "      border-top-color: var(--fill-color);\n",
              "    }\n",
              "    30% {\n",
              "      border-color: transparent;\n",
              "      border-left-color: var(--fill-color);\n",
              "      border-top-color: var(--fill-color);\n",
              "      border-right-color: var(--fill-color);\n",
              "    }\n",
              "    40% {\n",
              "      border-color: transparent;\n",
              "      border-right-color: var(--fill-color);\n",
              "      border-top-color: var(--fill-color);\n",
              "    }\n",
              "    60% {\n",
              "      border-color: transparent;\n",
              "      border-right-color: var(--fill-color);\n",
              "    }\n",
              "    80% {\n",
              "      border-color: transparent;\n",
              "      border-right-color: var(--fill-color);\n",
              "      border-bottom-color: var(--fill-color);\n",
              "    }\n",
              "    90% {\n",
              "      border-color: transparent;\n",
              "      border-bottom-color: var(--fill-color);\n",
              "    }\n",
              "  }\n",
              "</style>\n",
              "\n",
              "      <script>\n",
              "        async function quickchart(key) {\n",
              "          const quickchartButtonEl =\n",
              "            document.querySelector('#' + key + ' button');\n",
              "          quickchartButtonEl.disabled = true;  // To prevent multiple clicks.\n",
              "          quickchartButtonEl.classList.add('colab-df-spinner');\n",
              "          try {\n",
              "            const charts = await google.colab.kernel.invokeFunction(\n",
              "                'suggestCharts', [key], {});\n",
              "          } catch (error) {\n",
              "            console.error('Error during call to suggestCharts:', error);\n",
              "          }\n",
              "          quickchartButtonEl.classList.remove('colab-df-spinner');\n",
              "          quickchartButtonEl.classList.add('colab-df-quickchart-complete');\n",
              "        }\n",
              "        (() => {\n",
              "          let quickchartButtonEl =\n",
              "            document.querySelector('#df-c7bd5fea-cee3-4d9b-b7e5-6a1cfbb55349 button');\n",
              "          quickchartButtonEl.style.display =\n",
              "            google.colab.kernel.accessAllowed ? 'block' : 'none';\n",
              "        })();\n",
              "      </script>\n",
              "    </div>\n",
              "\n",
              "    </div>\n",
              "  </div>\n"
            ],
            "application/vnd.google.colaboratory.intrinsic+json": {
              "type": "dataframe",
              "variable_name": "df",
              "repr_error": "0"
            }
          },
          "metadata": {},
          "execution_count": 198
        }
      ]
    },
    {
      "cell_type": "code",
      "source": [
        "# Target: 1 if next day close is higher\n",
        "df['target'] = np.where(df['Close/Last'].shift(-1) > df['Close/Last'], 1, 0)\n",
        "df = df.dropna()\n",
        "\n",
        "# Define feature columns\n",
        "feature_cols = ['open-close', 'low-high', 'daily_return', 'Volume', 'is_quarter_end']\n",
        "X = df[feature_cols]\n",
        "y = df['target']"
      ],
      "metadata": {
        "id": "TxlZUDY3QtSv"
      },
      "execution_count": 199,
      "outputs": []
    },
    {
      "cell_type": "code",
      "source": [
        "# Scale\n",
        "scaler = StandardScaler()\n",
        "X_scaled = scaler.fit_transform(X)"
      ],
      "metadata": {
        "id": "rSWuIaXUQusH"
      },
      "execution_count": 200,
      "outputs": []
    },
    {
      "cell_type": "code",
      "source": [
        "# Train/Test Split\n",
        "train_size = int(len(X_scaled) * 0.8)\n",
        "X_train, X_valid = X_scaled[:train_size], X_scaled[train_size:]\n",
        "y_train, y_valid = y[:train_size], y[train_size:]"
      ],
      "metadata": {
        "id": "uxEFcHIrTcdu"
      },
      "execution_count": 201,
      "outputs": []
    },
    {
      "cell_type": "code",
      "source": [
        "# Convert to tensors\n",
        "X_train_tensor = torch.tensor(X_train, dtype=torch.float32)\n",
        "y_train_tensor = torch.tensor(y_train.values, dtype=torch.float32).unsqueeze(1)\n",
        "X_valid_tensor = torch.tensor(X_valid, dtype=torch.float32)\n",
        "y_valid_tensor = torch.tensor(y_valid.values, dtype=torch.float32).unsqueeze(1)"
      ],
      "metadata": {
        "id": "6OU9cZS6Q1Lf"
      },
      "execution_count": 202,
      "outputs": []
    },
    {
      "cell_type": "code",
      "source": [
        "class StrongerMLP(nn.Module):\n",
        "    def __init__(self, input_dim):\n",
        "        super().__init__()\n",
        "        self.net = nn.Sequential(\n",
        "            nn.Linear(input_dim, 128),\n",
        "            nn.ReLU(),\n",
        "            nn.Dropout(0.4),\n",
        "            nn.Linear(128, 64),\n",
        "            nn.ReLU(),\n",
        "            nn.Dropout(0.4),\n",
        "            nn.Linear(64, 32),\n",
        "            nn.ReLU(),\n",
        "            nn.Linear(32, 1)\n",
        "        )\n",
        "\n",
        "    def forward(self, x):\n",
        "        return self.net(x)\n",
        "\n",
        "model = StrongerMLP(input_dim=X_train.shape[1])\n"
      ],
      "metadata": {
        "id": "bGENLp08Q27-"
      },
      "execution_count": 203,
      "outputs": []
    },
    {
      "cell_type": "code",
      "source": [
        "criterion = nn.BCEWithLogitsLoss()\n",
        "optimizer = torch.optim.Adam(model.parameters(), lr=0.001, weight_decay=1e-4)\n"
      ],
      "metadata": {
        "id": "nkdfcy8OQ5BP"
      },
      "execution_count": 204,
      "outputs": []
    },
    {
      "cell_type": "code",
      "source": [
        "epochs = 10\n",
        "for epoch in range(epochs):\n",
        "    model.train()\n",
        "    optimizer.zero_grad()\n",
        "    outputs = model(X_train_tensor)\n",
        "    loss = criterion(outputs, y_train_tensor)\n",
        "    loss.backward()\n",
        "    optimizer.step()\n",
        "\n",
        "    with torch.no_grad():\n",
        "        train_preds = torch.sigmoid(outputs)\n",
        "        train_preds_cls = (train_preds > 0.5).float()\n",
        "        train_acc = accuracy_score(y_train_tensor.numpy(), train_preds_cls.numpy())\n",
        "\n",
        "    # Validation\n",
        "    model.eval()\n",
        "    with torch.no_grad():\n",
        "        val_outputs = model(X_valid_tensor)\n",
        "        val_preds = torch.sigmoid(val_outputs)\n",
        "        val_preds_cls = (val_preds > 0.5).float()\n",
        "        val_acc = accuracy_score(y_valid_tensor, val_preds_cls)\n",
        "\n",
        "    print(f\"Epoch {epoch+1}/{epochs}, Loss: {loss.item():.4f}, Train Acc: {train_acc:.4f}, Val Accuracy: {val_acc:.4f}\")\n"
      ],
      "metadata": {
        "colab": {
          "base_uri": "https://localhost:8080/"
        },
        "id": "fghis96sQ6x-",
        "outputId": "08603a5b-5c2b-472e-a5bd-777fe72e5f3c"
      },
      "execution_count": 205,
      "outputs": [
        {
          "output_type": "stream",
          "name": "stdout",
          "text": [
            "Epoch 1/10, Loss: 0.6945, Train Acc: 0.4917, Val Accuracy: 0.5010\n",
            "Epoch 2/10, Loss: 0.6894, Train Acc: 0.5340, Val Accuracy: 0.5131\n",
            "Epoch 3/10, Loss: 0.6858, Train Acc: 0.5888, Val Accuracy: 0.5372\n",
            "Epoch 4/10, Loss: 0.6814, Train Acc: 0.5969, Val Accuracy: 0.5614\n",
            "Epoch 5/10, Loss: 0.6777, Train Acc: 0.6311, Val Accuracy: 0.5835\n",
            "Epoch 6/10, Loss: 0.6730, Train Acc: 0.6467, Val Accuracy: 0.5734\n",
            "Epoch 7/10, Loss: 0.6689, Train Acc: 0.6688, Val Accuracy: 0.5694\n",
            "Epoch 8/10, Loss: 0.6662, Train Acc: 0.6568, Val Accuracy: 0.5614\n",
            "Epoch 9/10, Loss: 0.6602, Train Acc: 0.6558, Val Accuracy: 0.5674\n",
            "Epoch 10/10, Loss: 0.6564, Train Acc: 0.6593, Val Accuracy: 0.5654\n"
          ]
        }
      ]
    },
    {
      "cell_type": "code",
      "source": [
        "model.eval()\n",
        "with torch.no_grad():\n",
        "    preds = model(X_valid_tensor)\n",
        "    preds_prob = torch.sigmoid(preds)\n",
        "    preds_cls = (preds_prob > 0.5).float()\n",
        "\n",
        "print(\"Classification Report:\")\n",
        "print(classification_report(y_valid_tensor, preds_cls))\n"
      ],
      "metadata": {
        "colab": {
          "base_uri": "https://localhost:8080/"
        },
        "id": "LwbF5db3Q8Dn",
        "outputId": "19fff027-5eb4-41f8-92cf-72962b1f3d07"
      },
      "execution_count": 206,
      "outputs": [
        {
          "output_type": "stream",
          "name": "stdout",
          "text": [
            "Classification Report:\n",
            "              precision    recall  f1-score   support\n",
            "\n",
            "         0.0       0.56      0.62      0.59       247\n",
            "         1.0       0.58      0.51      0.54       250\n",
            "\n",
            "    accuracy                           0.57       497\n",
            "   macro avg       0.57      0.57      0.56       497\n",
            "weighted avg       0.57      0.57      0.56       497\n",
            "\n"
          ]
        }
      ]
    }
  ]
}