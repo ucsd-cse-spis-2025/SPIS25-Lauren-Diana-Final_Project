{
 "cells": [
  {
   "cell_type": "markdown",
   "metadata": {
    "colab_type": "text",
    "id": "view-in-github"
   },
   "source": [
    "<a href=\"https://colab.research.google.com/github/ucsd-cse-spis-2025/SPIS25-Lauren-Diana-Final_Project/blob/main/SPIS_Stock_MLP.ipynb\" target=\"_parent\"><img src=\"https://colab.research.google.com/assets/colab-badge.svg\" alt=\"Open In Colab\"/></a>"
   ]
  },
  {
   "cell_type": "code",
   "execution_count": 18,
   "metadata": {
    "colab": {
     "base_uri": "https://localhost:8080/"
    },
    "id": "q9h1oj3jRIrY",
    "outputId": "48f98892-d5f8-40ce-e3c9-8a39b7136061"
   },
   "outputs": [
    {
     "name": "stdout",
     "output_type": "stream",
     "text": [
      "Path to dataset files: C:\\Users\\laure\\.cache\\kagglehub\\datasets\\iamtanmayshukla\\tesla-stocks-dataset\\versions\\5\n"
     ]
    }
   ],
   "source": [
    "import kagglehub\n",
    "\n",
    "path = kagglehub.dataset_download(\"iamtanmayshukla/tesla-stocks-dataset\")\n",
    "\n",
    "print(\"Path to dataset files:\", path)"
   ]
  },
  {
   "cell_type": "code",
   "execution_count": 19,
   "metadata": {
    "id": "N5dWCrpjQZeH"
   },
   "outputs": [],
   "source": [
    "import numpy as np\n",
    "import pandas as pd\n",
    "import torch\n",
    "import torch.nn as nn\n",
    "import torch.optim as optim\n",
    "from sklearn.model_selection import train_test_split\n",
    "from sklearn.preprocessing import StandardScaler\n",
    "from sklearn.metrics import accuracy_score, classification_report"
   ]
  },
  {
   "cell_type": "code",
   "execution_count": 20,
   "metadata": {
    "id": "iTtCMSsoRcv2"
   },
   "outputs": [],
   "source": [
    "df = pd.read_csv(r\"C:\\Users\\laure\\.cache\\kagglehub\\datasets\\iamtanmayshukla\\tesla-stocks-dataset\\versions\\5\\HistoricalData_1726367135218.csv\")\n",
    "#df = df[df[\"Name\"] == \"AAPL\"]"
   ]
  },
  {
   "cell_type": "code",
   "execution_count": 21,
   "metadata": {
    "id": "VaPvnjpxb0dS"
   },
   "outputs": [],
   "source": [
    "names = ['Close/Last', 'Open', 'High', 'Low']\n",
    "\n",
    "for col in names:\n",
    "  df[col] = df[col].replace('[/$]', '', regex=True).astype(float)"
   ]
  },
  {
   "cell_type": "code",
   "execution_count": 22,
   "metadata": {
    "id": "hI3m2ByNRhze"
   },
   "outputs": [],
   "source": [
    "splitted = df['Date'].str.split('/', expand=True)\n",
    "\n",
    "df['day'] = splitted[1].astype('int')\n",
    "df['month'] = splitted[0].astype('int')\n",
    "df['year'] = splitted[2].astype('int')"
   ]
  },
  {
   "cell_type": "code",
   "execution_count": 23,
   "metadata": {
    "id": "R7-ZEPDXQksP"
   },
   "outputs": [],
   "source": [
    "# Feature engineering\n",
    "df['open-close'] = df['Open'] - df['Close/Last']\n",
    "df['low-high'] = df['Low'] - df['High']\n",
    "df['daily_return'] = df['Close/Last'].pct_change()\n",
    "df['is_quarter_end'] = np.where(df['month'] % 3 == 0, 1, 0)"
   ]
  },
  {
   "cell_type": "code",
   "execution_count": 24,
   "metadata": {
    "id": "7ofOSr5OS_lW"
   },
   "outputs": [],
   "source": [
    "import ta  # technical analysis library\n",
    "\n",
    "df['rsi'] = ta.momentum.RSIIndicator(df['Close/Last'], window=14).rsi()\n",
    "df['macd'] = ta.trend.MACD(df['Close/Last']).macd_diff()\n",
    "df['bollinger_h'] = ta.volatility.BollingerBands(df['Close/Last']).bollinger_hband()\n",
    "df['bollinger_l'] = ta.volatility.BollingerBands(df['Close/Last']).bollinger_lband()\n",
    "df['ema_12'] = ta.trend.EMAIndicator(df['Close/Last'], window=12).ema_indicator()\n",
    "df['ema_26'] = ta.trend.EMAIndicator(df['Close/Last'], window=26).ema_indicator()"
   ]
  },
  {
   "cell_type": "code",
   "execution_count": 25,
   "metadata": {
    "id": "d-J134bKQsiv"
   },
   "outputs": [],
   "source": [
    "# Drop NA from pct_change\n",
    "df = df.dropna()"
   ]
  },
  {
   "cell_type": "code",
   "execution_count": 26,
   "metadata": {
    "colab": {
     "base_uri": "https://localhost:8080/",
     "height": 243
    },
    "id": "GOCaO0qRYBBL",
    "outputId": "4c9f6a4c-2226-4b3a-daeb-4cd64ab67a00"
   },
   "outputs": [
    {
     "data": {
      "text/html": [
       "<div>\n",
       "<style scoped>\n",
       "    .dataframe tbody tr th:only-of-type {\n",
       "        vertical-align: middle;\n",
       "    }\n",
       "\n",
       "    .dataframe tbody tr th {\n",
       "        vertical-align: top;\n",
       "    }\n",
       "\n",
       "    .dataframe thead th {\n",
       "        text-align: right;\n",
       "    }\n",
       "</style>\n",
       "<table border=\"1\" class=\"dataframe\">\n",
       "  <thead>\n",
       "    <tr style=\"text-align: right;\">\n",
       "      <th></th>\n",
       "      <th>Date</th>\n",
       "      <th>Close/Last</th>\n",
       "      <th>Volume</th>\n",
       "      <th>Open</th>\n",
       "      <th>High</th>\n",
       "      <th>Low</th>\n",
       "      <th>day</th>\n",
       "      <th>month</th>\n",
       "      <th>year</th>\n",
       "      <th>open-close</th>\n",
       "      <th>low-high</th>\n",
       "      <th>daily_return</th>\n",
       "      <th>is_quarter_end</th>\n",
       "      <th>rsi</th>\n",
       "      <th>macd</th>\n",
       "      <th>bollinger_h</th>\n",
       "      <th>bollinger_l</th>\n",
       "      <th>ema_12</th>\n",
       "      <th>ema_26</th>\n",
       "    </tr>\n",
       "  </thead>\n",
       "  <tbody>\n",
       "    <tr>\n",
       "      <th>33</th>\n",
       "      <td>07/29/2024</td>\n",
       "      <td>232.10</td>\n",
       "      <td>129201800</td>\n",
       "      <td>224.90</td>\n",
       "      <td>234.2700</td>\n",
       "      <td>224.700</td>\n",
       "      <td>29</td>\n",
       "      <td>7</td>\n",
       "      <td>2024</td>\n",
       "      <td>-7.20</td>\n",
       "      <td>-9.5700</td>\n",
       "      <td>0.042584</td>\n",
       "      <td>0</td>\n",
       "      <td>59.968837</td>\n",
       "      <td>3.994924</td>\n",
       "      <td>235.264484</td>\n",
       "      <td>188.382516</td>\n",
       "      <td>215.220166</td>\n",
       "      <td>214.379828</td>\n",
       "    </tr>\n",
       "    <tr>\n",
       "      <th>34</th>\n",
       "      <td>07/26/2024</td>\n",
       "      <td>219.80</td>\n",
       "      <td>94604150</td>\n",
       "      <td>221.19</td>\n",
       "      <td>222.2799</td>\n",
       "      <td>215.330</td>\n",
       "      <td>26</td>\n",
       "      <td>7</td>\n",
       "      <td>2024</td>\n",
       "      <td>1.39</td>\n",
       "      <td>-6.9499</td>\n",
       "      <td>-0.052994</td>\n",
       "      <td>0</td>\n",
       "      <td>52.637426</td>\n",
       "      <td>3.438416</td>\n",
       "      <td>235.201855</td>\n",
       "      <td>188.393145</td>\n",
       "      <td>215.924756</td>\n",
       "      <td>214.781322</td>\n",
       "    </tr>\n",
       "    <tr>\n",
       "      <th>35</th>\n",
       "      <td>07/25/2024</td>\n",
       "      <td>220.25</td>\n",
       "      <td>100636500</td>\n",
       "      <td>216.80</td>\n",
       "      <td>226.0000</td>\n",
       "      <td>216.231</td>\n",
       "      <td>25</td>\n",
       "      <td>7</td>\n",
       "      <td>2024</td>\n",
       "      <td>-3.45</td>\n",
       "      <td>-9.7690</td>\n",
       "      <td>0.002047</td>\n",
       "      <td>0</td>\n",
       "      <td>52.864466</td>\n",
       "      <td>2.959001</td>\n",
       "      <td>235.959785</td>\n",
       "      <td>188.594215</td>\n",
       "      <td>216.590178</td>\n",
       "      <td>215.186410</td>\n",
       "    </tr>\n",
       "    <tr>\n",
       "      <th>36</th>\n",
       "      <td>07/24/2024</td>\n",
       "      <td>215.99</td>\n",
       "      <td>167942900</td>\n",
       "      <td>225.42</td>\n",
       "      <td>225.9900</td>\n",
       "      <td>214.710</td>\n",
       "      <td>24</td>\n",
       "      <td>7</td>\n",
       "      <td>2024</td>\n",
       "      <td>9.43</td>\n",
       "      <td>-11.2800</td>\n",
       "      <td>-0.019342</td>\n",
       "      <td>0</td>\n",
       "      <td>50.401316</td>\n",
       "      <td>2.245712</td>\n",
       "      <td>235.127918</td>\n",
       "      <td>188.698082</td>\n",
       "      <td>216.497843</td>\n",
       "      <td>215.245935</td>\n",
       "    </tr>\n",
       "    <tr>\n",
       "      <th>37</th>\n",
       "      <td>07/23/2024</td>\n",
       "      <td>246.38</td>\n",
       "      <td>111928200</td>\n",
       "      <td>253.60</td>\n",
       "      <td>255.7594</td>\n",
       "      <td>245.630</td>\n",
       "      <td>23</td>\n",
       "      <td>7</td>\n",
       "      <td>2024</td>\n",
       "      <td>7.22</td>\n",
       "      <td>-10.1294</td>\n",
       "      <td>0.140701</td>\n",
       "      <td>0</td>\n",
       "      <td>63.475554</td>\n",
       "      <td>3.629392</td>\n",
       "      <td>240.622514</td>\n",
       "      <td>185.731486</td>\n",
       "      <td>221.095098</td>\n",
       "      <td>217.552162</td>\n",
       "    </tr>\n",
       "  </tbody>\n",
       "</table>\n",
       "</div>"
      ],
      "text/plain": [
       "          Date  Close/Last     Volume    Open      High      Low  day  month  \\\n",
       "33  07/29/2024      232.10  129201800  224.90  234.2700  224.700   29      7   \n",
       "34  07/26/2024      219.80   94604150  221.19  222.2799  215.330   26      7   \n",
       "35  07/25/2024      220.25  100636500  216.80  226.0000  216.231   25      7   \n",
       "36  07/24/2024      215.99  167942900  225.42  225.9900  214.710   24      7   \n",
       "37  07/23/2024      246.38  111928200  253.60  255.7594  245.630   23      7   \n",
       "\n",
       "    year  open-close  low-high  daily_return  is_quarter_end        rsi  \\\n",
       "33  2024       -7.20   -9.5700      0.042584               0  59.968837   \n",
       "34  2024        1.39   -6.9499     -0.052994               0  52.637426   \n",
       "35  2024       -3.45   -9.7690      0.002047               0  52.864466   \n",
       "36  2024        9.43  -11.2800     -0.019342               0  50.401316   \n",
       "37  2024        7.22  -10.1294      0.140701               0  63.475554   \n",
       "\n",
       "        macd  bollinger_h  bollinger_l      ema_12      ema_26  \n",
       "33  3.994924   235.264484   188.382516  215.220166  214.379828  \n",
       "34  3.438416   235.201855   188.393145  215.924756  214.781322  \n",
       "35  2.959001   235.959785   188.594215  216.590178  215.186410  \n",
       "36  2.245712   235.127918   188.698082  216.497843  215.245935  \n",
       "37  3.629392   240.622514   185.731486  221.095098  217.552162  "
      ]
     },
     "execution_count": 26,
     "metadata": {},
     "output_type": "execute_result"
    }
   ],
   "source": [
    "df.head()"
   ]
  },
  {
   "cell_type": "code",
   "execution_count": 27,
   "metadata": {
    "id": "TxlZUDY3QtSv"
   },
   "outputs": [],
   "source": [
    "# Target: 1 if next day close is higher\n",
    "df['target'] = np.where(df['Close/Last'].shift(-1) > df['Close/Last'], 1, 0)\n",
    "df = df.dropna()\n",
    "\n",
    "# Define feature columns\n",
    "feature_cols = ['open-close', 'low-high', 'daily_return', 'Volume', 'is_quarter_end']\n",
    "X = df[feature_cols]\n",
    "y = df['target']"
   ]
  },
  {
   "cell_type": "code",
   "execution_count": 28,
   "metadata": {
    "id": "rSWuIaXUQusH"
   },
   "outputs": [],
   "source": [
    "# Scale\n",
    "scaler = StandardScaler()\n",
    "X_scaled = scaler.fit_transform(X)"
   ]
  },
  {
   "cell_type": "code",
   "execution_count": 29,
   "metadata": {
    "id": "uxEFcHIrTcdu"
   },
   "outputs": [],
   "source": [
    "# Train/Test Split\n",
    "train_size = int(len(X_scaled) * 0.8)\n",
    "X_train, X_valid = X_scaled[:train_size], X_scaled[train_size:]\n",
    "y_train, y_valid = y[:train_size], y[train_size:]"
   ]
  },
  {
   "cell_type": "code",
   "execution_count": 30,
   "metadata": {
    "id": "6OU9cZS6Q1Lf"
   },
   "outputs": [],
   "source": [
    "# Convert to tensors\n",
    "X_train_tensor = torch.tensor(X_train, dtype=torch.float32)\n",
    "y_train_tensor = torch.tensor(y_train.values, dtype=torch.float32).unsqueeze(1)\n",
    "X_valid_tensor = torch.tensor(X_valid, dtype=torch.float32)\n",
    "y_valid_tensor = torch.tensor(y_valid.values, dtype=torch.float32).unsqueeze(1)"
   ]
  },
  {
   "cell_type": "code",
   "execution_count": 31,
   "metadata": {
    "id": "bGENLp08Q27-"
   },
   "outputs": [],
   "source": [
    "class StrongerMLP(nn.Module):\n",
    "    def __init__(self, input_dim):\n",
    "        super().__init__()\n",
    "        self.net = nn.Sequential(\n",
    "            nn.Linear(input_dim, 128),\n",
    "            nn.ReLU(),\n",
    "            nn.Dropout(0.4),\n",
    "            nn.Linear(128, 64),\n",
    "            nn.ReLU(),\n",
    "            nn.Dropout(0.4),\n",
    "            nn.Linear(64, 32),\n",
    "            nn.ReLU(),\n",
    "            nn.Linear(32, 1)\n",
    "        )\n",
    "\n",
    "    def forward(self, x):\n",
    "        return self.net(x)\n",
    "\n",
    "model = StrongerMLP(input_dim=X_train.shape[1])\n"
   ]
  },
  {
   "cell_type": "code",
   "execution_count": 32,
   "metadata": {
    "id": "nkdfcy8OQ5BP"
   },
   "outputs": [],
   "source": [
    "criterion = nn.BCEWithLogitsLoss()\n",
    "optimizer = torch.optim.Adam(model.parameters(), lr=0.001, weight_decay=1e-4)\n"
   ]
  },
  {
   "cell_type": "code",
   "execution_count": 33,
   "metadata": {
    "colab": {
     "base_uri": "https://localhost:8080/"
    },
    "id": "fghis96sQ6x-",
    "outputId": "08603a5b-5c2b-472e-a5bd-777fe72e5f3c"
   },
   "outputs": [
    {
     "name": "stdout",
     "output_type": "stream",
     "text": [
      "Epoch 1/10, Loss: 0.6965, Train Acc: 0.4766, Val Accuracy: 0.5050\n",
      "Epoch 2/10, Loss: 0.6930, Train Acc: 0.4806, Val Accuracy: 0.5231\n",
      "Epoch 3/10, Loss: 0.6906, Train Acc: 0.4882, Val Accuracy: 0.5433\n",
      "Epoch 4/10, Loss: 0.6862, Train Acc: 0.5093, Val Accuracy: 0.5392\n",
      "Epoch 5/10, Loss: 0.6849, Train Acc: 0.5244, Val Accuracy: 0.5573\n",
      "Epoch 6/10, Loss: 0.6818, Train Acc: 0.5375, Val Accuracy: 0.5573\n",
      "Epoch 7/10, Loss: 0.6791, Train Acc: 0.5773, Val Accuracy: 0.5553\n",
      "Epoch 8/10, Loss: 0.6765, Train Acc: 0.5939, Val Accuracy: 0.5272\n",
      "Epoch 9/10, Loss: 0.6722, Train Acc: 0.6256, Val Accuracy: 0.5292\n",
      "Epoch 10/10, Loss: 0.6682, Train Acc: 0.6512, Val Accuracy: 0.5231\n"
     ]
    }
   ],
   "source": [
    "epochs = 10\n",
    "for epoch in range(epochs):\n",
    "    model.train()\n",
    "    optimizer.zero_grad()\n",
    "    outputs = model(X_train_tensor)\n",
    "    loss = criterion(outputs, y_train_tensor)\n",
    "    loss.backward()\n",
    "    optimizer.step()\n",
    "\n",
    "    with torch.no_grad():\n",
    "        train_preds = torch.sigmoid(outputs)\n",
    "        train_preds_cls = (train_preds > 0.5).float()\n",
    "        train_acc = accuracy_score(y_train_tensor.numpy(), train_preds_cls.numpy())\n",
    "\n",
    "    # Validation\n",
    "    model.eval()\n",
    "    with torch.no_grad():\n",
    "        val_outputs = model(X_valid_tensor)\n",
    "        val_preds = torch.sigmoid(val_outputs)\n",
    "        val_preds_cls = (val_preds > 0.5).float()\n",
    "        val_acc = accuracy_score(y_valid_tensor, val_preds_cls)\n",
    "\n",
    "    print(f\"Epoch {epoch+1}/{epochs}, Loss: {loss.item():.4f}, Train Acc: {train_acc:.4f}, Val Accuracy: {val_acc:.4f}\")\n"
   ]
  },
  {
   "cell_type": "code",
   "execution_count": 34,
   "metadata": {
    "colab": {
     "base_uri": "https://localhost:8080/"
    },
    "id": "LwbF5db3Q8Dn",
    "outputId": "19fff027-5eb4-41f8-92cf-72962b1f3d07"
   },
   "outputs": [
    {
     "name": "stdout",
     "output_type": "stream",
     "text": [
      "Classification Report:\n",
      "              precision    recall  f1-score   support\n",
      "\n",
      "         0.0       0.51      0.95      0.66       247\n",
      "         1.0       0.68      0.10      0.17       250\n",
      "\n",
      "    accuracy                           0.52       497\n",
      "   macro avg       0.59      0.53      0.42       497\n",
      "weighted avg       0.59      0.52      0.42       497\n",
      "\n"
     ]
    }
   ],
   "source": [
    "model.eval()\n",
    "with torch.no_grad():\n",
    "    preds = model(X_valid_tensor)\n",
    "    preds_prob = torch.sigmoid(preds)\n",
    "    preds_cls = (preds_prob > 0.5).float()\n",
    "\n",
    "print(\"Classification Report:\")\n",
    "print(classification_report(y_valid_tensor, preds_cls))"
   ]
  }
 ],
 "metadata": {
  "colab": {
   "authorship_tag": "ABX9TyMw4sm7OSKN3pgtk2uzHVAc",
   "include_colab_link": true,
   "provenance": []
  },
  "kernelspec": {
   "display_name": "Python 3 (ipykernel)",
   "language": "python",
   "name": "python3"
  },
  "language_info": {
   "codemirror_mode": {
    "name": "ipython",
    "version": 3
   },
   "file_extension": ".py",
   "mimetype": "text/x-python",
   "name": "python",
   "nbconvert_exporter": "python",
   "pygments_lexer": "ipython3",
   "version": "3.12.7"
  }
 },
 "nbformat": 4,
 "nbformat_minor": 4
}
